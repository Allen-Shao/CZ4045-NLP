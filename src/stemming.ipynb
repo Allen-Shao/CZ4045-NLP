{
 "cells": [
  {
   "cell_type": "code",
   "execution_count": null,
   "metadata": {
    "collapsed": true
   },
   "outputs": [],
   "source": [
    "import csv\n",
    "import operator\n",
    "from re import match as re_match\n",
    "from nltk.stem.snowball import SnowballStemmer\n",
    "from nltk.corpus import stopwords\n",
    "from nltk.tokenize import RegexpTokenizer\n",
    "import pandas as pd"
   ]
  },
  {
   "cell_type": "code",
   "execution_count": null,
   "metadata": {
    "scrolled": true
   },
   "outputs": [],
   "source": [
    "'''\n",
    "1. From the dataset, identify the top-20 most frequent words \n",
    "(excluding the stop words) before and after performing stemming.\n",
    "\n",
    "2. For each of the top-20 most frequent stems, \n",
    "list their original words from which the stem is reached\n",
    "'''"
   ]
  },
  {
   "cell_type": "code",
   "execution_count": null,
   "metadata": {
    "collapsed": true
   },
   "outputs": [],
   "source": [
    "stemmer = SnowballStemmer(\"english\")"
   ]
  },
  {
   "cell_type": "code",
   "execution_count": null,
   "metadata": {
    "collapsed": true
   },
   "outputs": [],
   "source": [
    "tokenizer = RegexpTokenizer(r'\\w+')"
   ]
  },
  {
   "cell_type": "code",
   "execution_count": null,
   "metadata": {},
   "outputs": [],
   "source": [
    "ans = pd.read_csv('../processed_data/selected_answer.csv')\n",
    "qns = pd.read_csv('../processed_data/selected_questions.csv')"
   ]
  },
  {
   "cell_type": "code",
   "execution_count": null,
   "metadata": {},
   "outputs": [],
   "source": [
    "posts = pd.concat([ans,qns])['Body']"
   ]
  },
  {
   "cell_type": "code",
   "execution_count": null,
   "metadata": {},
   "outputs": [],
   "source": [
    "i = 0\n",
    "word_frequency = {}\n",
    "stem_frequency = {}\n",
    "stem_origin = {}\n",
    "stems = []\n",
    "for post in posts:\n",
    "    # change all to lower case\n",
    "    tokens = map(str.lower,tokenizer.tokenize(post))\n",
    "    # remove stop words and numbers\n",
    "    filtered_tokens = [token for token in tokens \n",
    "                       if token not in stopwords.words('english') \n",
    "                       and re_match(r'[-]?\\d[\\d,]*[\\.]?[\\d{2}]*', token) is None]\n",
    "\n",
    "    for token in filtered_tokens:\n",
    "        # calculate word frequency\n",
    "        if token in word_frequency:\n",
    "            word_frequency[token] += 1\n",
    "        else:\n",
    "            word_frequency[token] = 1\n",
    "\n",
    "        stem = stemmer.stem(token)\n",
    "        stems.append(stem)\n",
    "        # preserve the original word for stem\n",
    "        if stem in stem_origin:\n",
    "            stem_origin[stem].add(token)\n",
    "        else:\n",
    "            stem_origin[stem] = set([token])\n",
    "\n",
    "    # find the top 20 frequently appearing words\n",
    "    top_20_words = [word_f_pair[0] for word_f_pair in \n",
    "                        reversed(sorted(word_frequency.items(), key=operator.itemgetter(1))[-20:])]\n",
    "\n",
    "    # find the top 20 frequently apearing stems\n",
    "    for stem in stems:\n",
    "        if stem in stem_frequency:\n",
    "            stem_frequency[stem] += 1\n",
    "        else:\n",
    "            stem_frequency[stem] = 1\n",
    "    top_20_stems = [stem_f_pair[0] for stem_f_pair in \n",
    "                        reversed(sorted(stem_frequency.items(), key=operator.itemgetter(1))[-20:])]\n",
    "\n",
    "    # for each stem in top-20 list, get the original words\n",
    "    top_20_stem_origins = {stem: stem_origin[stem] for stem in top_20_stems}\n",
    "\n"
   ]
  },
  {
   "cell_type": "code",
   "execution_count": null,
   "metadata": {
    "collapsed": true
   },
   "outputs": [],
   "source": []
  }
 ],
 "metadata": {
  "kernelspec": {
   "display_name": "Python 3",
   "language": "python",
   "name": "python3"
  },
  "language_info": {
   "codemirror_mode": {
    "name": "ipython",
    "version": 3
   },
   "file_extension": ".py",
   "mimetype": "text/x-python",
   "name": "python",
   "nbconvert_exporter": "python",
   "pygments_lexer": "ipython3",
   "version": "3.6.1"
  }
 },
 "nbformat": 4,
 "nbformat_minor": 2
}
