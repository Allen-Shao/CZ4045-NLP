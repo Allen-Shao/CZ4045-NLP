{
 "cells": [
  {
   "cell_type": "code",
   "execution_count": 228,
   "metadata": {
    "collapsed": true
   },
   "outputs": [],
   "source": [
    "from nltk.tokenize import RegexpTokenizer\n",
    "import pandas\n",
    "import nltk\n",
    "import re"
   ]
  },
  {
   "cell_type": "code",
   "execution_count": null,
   "metadata": {
    "collapsed": true
   },
   "outputs": [],
   "source": [
    "codes = pandas.read_csv(\"../processed_data/code_top300.csv\")\n",
    "# codes.iloc[:,0] = codes.index.values"
   ]
  },
  {
   "cell_type": "code",
   "execution_count": 300,
   "metadata": {
    "collapsed": true
   },
   "outputs": [],
   "source": [
    "identifier = r'[a-zA-Z_][\\d\\w_]*'"
   ]
  },
  {
   "cell_type": "code",
   "execution_count": 229,
   "metadata": {
    "collapsed": true
   },
   "outputs": [],
   "source": [
    "keywords = r'''break|default|func|interface|select|case|defer\n",
    "                |go|map|struct|chan|else|goto|package|switch\n",
    "                |const|fallthrough|if|range|type|continue|for|import|return|var'''"
   ]
  },
  {
   "cell_type": "code",
   "execution_count": 261,
   "metadata": {
    "collapsed": true
   },
   "outputs": [],
   "source": [
    "# operators and punctuation\n",
    "operators = r'[\\+\\-\\*\\,;\\$><!:\\.\\|&\\^=\\(\\)\\[\\]\\{\\}]+'"
   ]
  },
  {
   "cell_type": "code",
   "execution_count": 378,
   "metadata": {
    "collapsed": true
   },
   "outputs": [],
   "source": [
    "decimal_literal = r'\\d+i?'           \n",
    "octal_literal = r'0[1-7]*'\n",
    "hex_literal = r'0[xX][a-fA-F]+'\n",
    "floating_literal = r''' \\d+\\.\\d*(?:[eE][+-]\\d+)?i?     \n",
    "                | \\d+[eE][+-]\\d+i?               \n",
    "                | \\.\\d+(?:[eE][+-]\\d+)?i?        \n",
    "                '''\n",
    "string_literal = r'''\\\"\\s*.*\\n?\\\"'''"
   ]
  },
  {
   "cell_type": "code",
   "execution_count": 379,
   "metadata": {
    "collapsed": true
   },
   "outputs": [],
   "source": [
    "comments = r'//.*'"
   ]
  },
  {
   "cell_type": "code",
   "execution_count": 380,
   "metadata": {},
   "outputs": [],
   "source": [
    "patterns =  keywords + '|' + identifier + '|' + operators + '|' \\\n",
    "        + decimal_literal + '|' + octal_literal + '|' + hex_literal + '|' \\\n",
    "        + floating_literal + '|' + string_literal + '|' + comments"
   ]
  },
  {
   "cell_type": "code",
   "execution_count": 381,
   "metadata": {},
   "outputs": [],
   "source": [
    "r = RegexpTokenizer(patterns)"
   ]
  },
  {
   "cell_type": "code",
   "execution_count": 382,
   "metadata": {},
   "outputs": [
    {
     "data": {
      "text/plain": [
       "['print', '(', 'z12', ',', '\"    z12 STATE SAVED\\n\"', ')']"
      ]
     },
     "execution_count": 382,
     "metadata": {},
     "output_type": "execute_result"
    }
   ],
   "source": [
    "r.tokenize('print(z12,\"    z12 STATE SAVED\\n\")')"
   ]
  },
  {
   "cell_type": "code",
   "execution_count": null,
   "metadata": {},
   "outputs": [
    {
     "name": "stdout",
     "output_type": "stream",
     "text": [
      "        if y == 0 {\n",
      "['if', 'y', '==', '0', '{']\n",
      "['keyword', 'identifier', 'operator', 'decimal_literal', 'operator']\n",
      "================\n",
      "            print(z12, \"    z12 STATE SAVED\\n\")\n",
      "['print', '(', 'z12', ',', '\"    z12 STATE SAVED\\\\n\"', ')']\n",
      "['identifier', 'operator', 'identifier', 'operator', 'string_literal', 'operator']\n",
      "================\n",
      "            print(z13, \"    z13 STATE SAVED\\n\")\n",
      "['print', '(', 'z13', ',', '\"    z13 STATE SAVED\\\\n\"', ')']\n",
      "['identifier', 'operator', 'identifier', 'operator', 'string_literal', 'operator']\n",
      "================\n",
      "            // Routine 1 is initiator,  it sends 0 to make other process to save the state.\n",
      "['// Routine 1 is initiator,  it sends 0 to make other process to save the state.']\n",
      "['comment']\n",
      "================\n",
      "            y = 0\n",
      "['y', '=', '0']\n",
      "['identifier', 'operator', 'decimal_literal']\n",
      "================\n",
      "            command12 <- y\n",
      "['command12', '<-', 'y']\n",
      "['identifier', 'operator', 'identifier']\n",
      "================\n",
      "            command13 <- y\n",
      "['command13', '<-', 'y']\n",
      "['identifier', 'operator', 'identifier']\n",
      "================\n",
      "            // Untill routine 2 and 3 does not send 0, process 1 is on channel saving state (it's process state is already saved).\n",
      "[\"// Untill routine 2 and 3 does not send 0, process 1 is on channel saving state (it's process state is already saved).\"]\n",
      "['comment']\n",
      "================\n",
      "            // When routine 1 recives 0 from both other processes, channel is saved and routine 1 retuns to it's common routine procedure.\n",
      "[\"// When routine 1 recives 0 from both other processes, channel is saved and routine 1 retuns to it's common routine procedure.\"]\n",
      "['comment']\n"
     ]
    }
   ],
   "source": [
    "for code in codes['Code']:\n",
    "    code_lines = list(filter(None, code.split('\\n')))\n",
    "    for line in code_lines[13:]:\n",
    "        print(line)\n",
    "        tokens = r.tokenize(line)\n",
    "        print(tokens)\n",
    "        ann = []\n",
    "        for t in tokens:\n",
    "            if re.match(comments, t):\n",
    "                ann.append('comment')\n",
    "            elif re.match(keywords, t):\n",
    "                ann.append('keyword')\n",
    "            elif re.match(identifier, t):\n",
    "                ann.append('identifier')\n",
    "            elif re.match(operators, t):\n",
    "                ann.append('operator')\n",
    "            elif re.match(decimal_literal, t):\n",
    "                ann.append('decimal_literal')\n",
    "            elif re.match(octal_literal, t):\n",
    "                ann.append('octal_literal')\n",
    "            elif re.match(hex_literal, t):\n",
    "                ann.append('hex_literal')\n",
    "            elif re.match(string_literal, t):\n",
    "                ann.append('string_literal')\n",
    "            elif re.match(floating_literal, t):\n",
    "                ann.append('floating_literal')\n",
    "            else:\n",
    "                ann.append('undefined')\n",
    "        print(ann)\n",
    "        input(\"================\")"
   ]
  },
  {
   "cell_type": "code",
   "execution_count": 224,
   "metadata": {
    "collapsed": true
   },
   "outputs": [],
   "source": [
    "pattern = r'''(?x)               # set flag to allow verbose regexps\n",
    "              //\n",
    "              |\".*\"|'.*'             # string\n",
    "              |(?:[A-Z]\\.)+         # abbreviations, e.g. U.S.A.\n",
    "              | \\d+(?:\\.\\d+)?%? # numbers, incl. currency and percentages\n",
    "              | \\w+\\.\\w+(?:\\(\\w+\\))?       # rand.Intn(100)\n",
    "              | \\w+\\s+[<>=]=?\\s+\\w+   # comparison\n",
    "              | \\w+\\+\\+     # increament\n",
    "              | \\w+\\s*=\\s*\\S+     # assignment\n",
    "              | \\w+\\s*:=\\s*\\w+     # assignment\n",
    "              | \\w+(?:-\\w+)*    # words w/ optional internal hyphens/apostrophe\n",
    "              | [\\(\\)+/\\-@&*><=]        # special characters with meanings\n",
    "              \n",
    "            '''"
   ]
  },
  {
   "cell_type": "code",
   "execution_count": 4,
   "metadata": {},
   "outputs": [],
   "source": [
    "codes = pandas.read_csv(\"../processed_data/code_top300.csv\")"
   ]
  },
  {
   "cell_type": "code",
   "execution_count": 13,
   "metadata": {},
   "outputs": [],
   "source": [
    "codes.iloc[:,0] = codes.index.values"
   ]
  },
  {
   "cell_type": "code",
   "execution_count": 23,
   "metadata": {},
   "outputs": [
    {
     "data": {
      "text/plain": [
       "['package main',\n",
       " 'import \"rand\"',\n",
       " 'func Routine1(command12 chan int, response12 chan int, command13 chan int, response13 chan int) {',\n",
       " '    // z12 is a variable which stores the value comming from channel 2 and z13 is a variable which stores the value comming from channel 3.',\n",
       " '    z12 := 200',\n",
       " '    z13 := 200',\n",
       " '    m12 := false',\n",
       " '    m13 := false',\n",
       " '    y := 0',\n",
       " '    for i := 0; i < 20; i++ {',\n",
       " '        y = rand.Intn(100)',\n",
       " \"        // If y's value is not 0 then the value will be sent to routine 2 or 3 according to   prime or not.\",\n",
       " \"        // If y's value is 0 then process state (the varibles used by it means z12, z13) and channel state will be saved.[routine 1 is initiator]\",\n",
       " '        if y == 0 {',\n",
       " '            print(z12, \"    z12 STATE SAVED\\\\n\")',\n",
       " '            print(z13, \"    z13 STATE SAVED\\\\n\")',\n",
       " '            // Routine 1 is initiator,  it sends 0 to make other process to save the state.',\n",
       " '            y = 0',\n",
       " '            command12 <- y',\n",
       " '            command13 <- y',\n",
       " \"            // Untill routine 2 and 3 does not send 0, process 1 is on channel saving state (it's process state is already saved).\",\n",
       " \"            // When routine 1 recives 0 from both other processes, channel is saved and routine 1 retuns to it's common routine procedure.\",\n",
       " '            // When routine 1 recives 0 from any other processes, saving channel bettwen them is stopped.',\n",
       " '            // m12, m13 is used to mark whether 0 recived or not.',\n",
       " '            for m12 != true || m13 != true {',\n",
       " '                select {',\n",
       " '                case cmd1 := <-response12:',\n",
       " '                    {',\n",
       " '                        z12 = cmd1',\n",
       " '                        if z12 != 0 {',\n",
       " '                            print(z12, \"    z12  Channel Saving.... \\\\n\")',\n",
       " '                            y = rand.Intn(100)',\n",
       " '                            command12 <- y',\n",
       " '                        }',\n",
       " '                        if z12 == 0 {',\n",
       " '                            m12 = true',\n",
       " '                            print(\" z12  Channel Saving Stopped \\\\n\")',\n",
       " '                        }',\n",
       " '                    }',\n",
       " '                case cmd2 := <-response13:',\n",
       " '                    {',\n",
       " '                        z13 = cmd2',\n",
       " '                        if z13 != 0 {',\n",
       " '                            print(z13, \"    z13  Channel Saving.... \\\\n\")',\n",
       " '                            y = rand.Intn(100)',\n",
       " '                            command13 <- y',\n",
       " '                        }',\n",
       " '                        if z13 == 0 {',\n",
       " '                            m13 = true',\n",
       " '                            print(\"    z13  Channel Saving Stopped \\\\n\")',\n",
       " '                        }',\n",
       " '                    }',\n",
       " '                }',\n",
       " '            }',\n",
       " \"            // After saving process state it retuns to it's normal behaviour.\",\n",
       " '            m12 = false',\n",
       " '            m13 = false',\n",
       " '        }',\n",
       " '        if y != 0 {',\n",
       " '            // If y value is not 0, routine 1 just sends int to other process according to prime or not and recives int accordingly.',\n",
       " '            if y%2 == 0 {',\n",
       " '                command12 <- y',\n",
       " '            }',\n",
       " '            if y%2 != 0 {',\n",
       " '                command13 <- y',\n",
       " '            }',\n",
       " '            select {',\n",
       " '            case cmd1 := <-response12:',\n",
       " '                {',\n",
       " '                    z12 = cmd1',\n",
       " '                    print(z12, \"    z12\\\\n\")',\n",
       " '                }',\n",
       " '            case cmd2 := <-response13:',\n",
       " '                {',\n",
       " '                    z13 = cmd2',\n",
       " '                    print(z13, \"   z13\\\\n\")',\n",
       " '                }',\n",
       " '            }',\n",
       " '        }',\n",
       " '    }',\n",
       " '    close(command12)',\n",
       " '    close(command13)',\n",
       " '}',\n",
       " \"//Routine 2 (or 3) is not an initiator (means it can't send 0). When it recives 0 (from routine 1 or 3) it save the state of process and the state of the channel from which it recived).\",\n",
       " \"// When it recives 0 from both other two routine, it saves all channel state and returns to it's common behaviour. [same in routine 3]\",\n",
       " 'func Routine2(command12 chan int, response12 chan int, command23 chan int, response23 chan int) {',\n",
       " '    z21 := 200',\n",
       " '    z23 := 200',\n",
       " '    m21 := false',\n",
       " '    m23 := false',\n",
       " '    for i := 0; i < 20; i++ {',\n",
       " '        select {',\n",
       " '        case x, open := <-command12:',\n",
       " '            {',\n",
       " '                if !open {',\n",
       " '                    return',\n",
       " '                }',\n",
       " '                if x != 0 && m23 != true {',\n",
       " '                    z21 = x',\n",
       " '                    print(z21, \"   z21\\\\n\")',\n",
       " '                }',\n",
       " '                if x != 0 && m23 == true {',\n",
       " '                    z21 = x',\n",
       " '                    print(z21, \"   z21 Channel Saving \\\\n\")',\n",
       " '                }',\n",
       " '                if x == 0 {',\n",
       " '                    m21 = true',\n",
       " '                    if m21 == true && m23 == true {',\n",
       " '                        print(\" z21 and z23 Channel Saving Stopped \\\\n\")',\n",
       " '                        m23 = false',\n",
       " '                        m21 = false',\n",
       " '                    }',\n",
       " '                    if m21 == true && m23 != true {',\n",
       " '                        z21 = x',\n",
       " '                        print(z21, \"   z21  Channel Saved \\\\n\")',\n",
       " '                    }',\n",
       " '                }',\n",
       " '            }',\n",
       " '        case x, open := <-response23:',\n",
       " '            {',\n",
       " '                if !open {',\n",
       " '                    return',\n",
       " '                }',\n",
       " '                if x != 0 && m21 != true {',\n",
       " '                    z23 = x',\n",
       " '                    print(z23, \"   z21\\\\n\")',\n",
       " '                }',\n",
       " '                if x != 0 && m21 == true {',\n",
       " '                    z23 = x',\n",
       " '                    print(z23, \"   z23 Channel Saving \\\\n\")',\n",
       " '                }',\n",
       " '                if x == 0 {',\n",
       " '                    m23 = true',\n",
       " '                    if m21 == true && m23 == true {',\n",
       " '                        print(\" z23 Channel Saving Stopped \\\\n\")',\n",
       " '                        m23 = false',\n",
       " '                        m21 = false',\n",
       " '                    }',\n",
       " '                    if m23 == true && m21 != true {',\n",
       " '                        z23 = x',\n",
       " '                        print(z23, \"   z23  Channel Saved \\\\n\")',\n",
       " '                    }',\n",
       " '                }',\n",
       " '            }',\n",
       " '        }',\n",
       " '        if m23 == false && m21 == false {',\n",
       " '            y := rand.Intn(100)',\n",
       " '            if y%2 == 0 {',\n",
       " '                if y == 0 {',\n",
       " '                    y = 10',\n",
       " '                    response12 <- y',\n",
       " '                }',\n",
       " '            }',\n",
       " '            if y%2 != 0 {',\n",
       " '                if y == 0 {',\n",
       " '                    y = 10',\n",
       " '                    response23 <- y',\n",
       " '                }',\n",
       " '            }',\n",
       " '        }',\n",
       " '        if m23 == true && m21 != true {',\n",
       " '            y := rand.Intn(100)',\n",
       " '            response12 <- y',\n",
       " '        }',\n",
       " '        if m23 != true && m21 == true {',\n",
       " '            y := rand.Intn(100)',\n",
       " '            command23 <- y',\n",
       " '        }',\n",
       " '    }',\n",
       " '    close(response12)',\n",
       " '    close(command23)',\n",
       " '}',\n",
       " 'func Routine3(command13 chan int, response13 chan int, command23 chan int, response23 chan int) {',\n",
       " '    z31 := 200',\n",
       " '    z32 := 200',\n",
       " '    m31 := false',\n",
       " '    m32 := false',\n",
       " '    for i := 0; i < 20; i++ {',\n",
       " '        select {',\n",
       " '        case x, open := <-command13:',\n",
       " '            {',\n",
       " '                if !open {',\n",
       " '                    return',\n",
       " '                }',\n",
       " '                if x != 0 && m32 != true {',\n",
       " '                    z31 = x',\n",
       " '                    print(z31, \"   z21\\\\n\")',\n",
       " '                }',\n",
       " '                if x != 0 && m32 == true {',\n",
       " '                    z31 = x',\n",
       " '                    print(z31, \"   z31 Channel Saving \\\\n\")',\n",
       " '                }',\n",
       " '                if x == 0 {',\n",
       " '                    m31 = true',\n",
       " '                    if m31 == true && m32 == true {',\n",
       " '                        print(\" z21 Channel Saving Stopped \\\\n\")',\n",
       " '                        m31 = false',\n",
       " '                        m32 = false',\n",
       " '                    }',\n",
       " '                    if m31 == true && m32 != true {',\n",
       " '                        z31 = x',\n",
       " '                        print(z31, \"   z31  Channel Saved \\\\n\")',\n",
       " '                    }',\n",
       " '                }',\n",
       " '            }',\n",
       " '        case x, open := <-command23:',\n",
       " '            {',\n",
       " '                if !open {',\n",
       " '                    return',\n",
       " '                }',\n",
       " '                if x != 0 && m31 != true {',\n",
       " '                    z32 = x',\n",
       " '                    print(z32, \"   z32\\\\n\")',\n",
       " '                }',\n",
       " '                if x != 0 && m31 == true {',\n",
       " '                    z32 = x',\n",
       " '                    print(z32, \"   z32 Channel Saving \\\\n\")',\n",
       " '                }',\n",
       " '                if x == 0 {',\n",
       " '                    m32 = true',\n",
       " '                    if m31 == true && m32 == true {',\n",
       " '                        print(\" z32 Channel Saving Stopped \\\\n\")',\n",
       " '                        m31 = false',\n",
       " '                        m32 = false',\n",
       " '                    }',\n",
       " '                    if m32 == true && m31 != true {',\n",
       " '                        z32 = x',\n",
       " '                        print(z32, \"   z32  Channel Saved \\\\n\")',\n",
       " '                    }',\n",
       " '                }',\n",
       " '            }',\n",
       " '        }',\n",
       " '        if m31 == false && m32 == false {',\n",
       " '            y := rand.Intn(100)',\n",
       " '            if y%2 == 0 {',\n",
       " '                response13 <- y',\n",
       " '            }',\n",
       " '            if y%2 != 0 {',\n",
       " '                response23 <- y',\n",
       " '            }',\n",
       " '        }',\n",
       " '        if m31 == true && m32 != true {',\n",
       " '            y := rand.Intn(100)',\n",
       " '            response13 <- y',\n",
       " '        }',\n",
       " '        if m31 != true && m32 == true {',\n",
       " '            y := rand.Intn(100)',\n",
       " '            response23 <- y',\n",
       " '        }',\n",
       " '    }',\n",
       " '    close(response13)',\n",
       " '    close(response23)',\n",
       " '}',\n",
       " 'func main() {',\n",
       " '    // Three concurrent channels are created to pass integers to each other.',\n",
       " '    // command 12 used to send int and response12 is used to receive int from routine 1 to routine 2.',\n",
       " '    // response 12 used to send int and command 12 is used to receive int from routine 2 to routine 1. {so as for others}',\n",
       " '    command12 := make(chan int)',\n",
       " '    response12 := make(chan int)',\n",
       " '    command13 := make(chan int)',\n",
       " '    response13 := make(chan int)',\n",
       " '    command23 := make(chan int)',\n",
       " '    response23 := make(chan int)',\n",
       " '    go Routine1(command12, response12, command13, response13)',\n",
       " '    go Routine2(command12, response12, command23, response23)',\n",
       " '    Routine3(command13, response13, command23, response23)',\n",
       " '}']"
      ]
     },
     "execution_count": 23,
     "metadata": {},
     "output_type": "execute_result"
    }
   ],
   "source": [
    "list(filter(None, l))"
   ]
  },
  {
   "cell_type": "code",
   "execution_count": null,
   "metadata": {
    "collapsed": true
   },
   "outputs": [],
   "source": []
  }
 ],
 "metadata": {
  "kernelspec": {
   "display_name": "Python 3",
   "language": "python",
   "name": "python3"
  },
  "language_info": {
   "codemirror_mode": {
    "name": "ipython",
    "version": 3
   },
   "file_extension": ".py",
   "mimetype": "text/x-python",
   "name": "python",
   "nbconvert_exporter": "python",
   "pygments_lexer": "ipython3",
   "version": "3.6.1"
  }
 },
 "nbformat": 4,
 "nbformat_minor": 2
}
