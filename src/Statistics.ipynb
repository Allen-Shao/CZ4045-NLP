{
 "cells": [
  {
   "cell_type": "code",
   "execution_count": null,
   "metadata": {},
   "outputs": [],
   "source": [
    "import pandas as pd\n",
    "from help_func import *\n",
    "from collections import Counter\n",
    "import matplotlib.pyplot as plt\n",
    "import numpy as np"
   ]
  },
  {
   "cell_type": "code",
   "execution_count": null,
   "metadata": {
    "collapsed": true
   },
   "outputs": [],
   "source": [
    "from nltk.tokenize import TweetTokenizer\n",
    " \n",
    "tknzr = TweetTokenizer()"
   ]
  },
  {
   "cell_type": "code",
   "execution_count": null,
   "metadata": {
    "collapsed": true
   },
   "outputs": [],
   "source": [
    "write = \"\""
   ]
  },
  {
   "cell_type": "code",
   "execution_count": null,
   "metadata": {
    "collapsed": true
   },
   "outputs": [],
   "source": [
    "# read data\n",
    "answers = read_dataframe(path=\"../processed_data/answers.csv\")\n",
    "questions = read_dataframe(path=\"../processed_data/questions.csv\")"
   ]
  },
  {
   "cell_type": "code",
   "execution_count": null,
   "metadata": {},
   "outputs": [],
   "source": [
    "# number of questions\n",
    "tex = \"There are %d questions\" % len(questions)\n",
    "print(tex)\n",
    "write += tex + '\\n\\n'\n"
   ]
  },
  {
   "cell_type": "code",
   "execution_count": null,
   "metadata": {},
   "outputs": [],
   "source": [
    "# number of answers\n",
    "tex = \"There are %d answers\" % len(answers)\n",
    "print(tex)\n",
    "write += tex + '\\n\\n'"
   ]
  },
  {
   "cell_type": "code",
   "execution_count": null,
   "metadata": {},
   "outputs": [],
   "source": [
    "# what is the percentage of questions having one, two, or more answers\n",
    "\n",
    "c = Counter(questions.AnswerCount)\n",
    "x = list(c.keys())\n",
    "y = [i / len(questions) for i in c.values()]\n",
    "\n",
    "# plot the histogram\n",
    "fig, ax = plt.subplots(figsize=(10,6))\n",
    "rect = ax.bar(x,y,align='center') # A bar chart\n",
    "plt.title(\"Percentage of questions having one, two, or more answers\")\n",
    "plt.xlabel('Number of answers')\n",
    "plt.ylabel('Percentage')\n",
    "# for i in range(len(y)):\n",
    "#     plt.hlines(y[i],0,x[i]) # Here you are drawing the horizontal lines\n",
    "def autolabel(rects):\n",
    "    \"\"\"\n",
    "    Attach a text label above each bar displaying its height\n",
    "    \"\"\"\n",
    "    for rect in rects:\n",
    "        height = rect.get_height()\n",
    "        ax.text(rect.get_x() + rect.get_width()/2., 1.05*height,\n",
    "                '%.3f' % (float(height) * 100) + \"%\",\n",
    "                ha='center', va='bottom')\n",
    "\n",
    "autolabel(rect)\n",
    "plt.savefig('../Stats/NoOfAnswerDist.png')\n",
    "plt.show()\n",
    "plt.close()\n",
    "\n",
    "# save the result in text\n",
    "for i in sorted(c.keys()):\n",
    "    tex = \"There are %.3f\"  % (c[i] / len(questions) * 100) + \"% \" + \"of question have %d answer(s).\" % i\n",
    "    print(tex)\n",
    "    write += tex + '\\n'\n",
    "    \n",
    "write += \"\\n\""
   ]
  },
  {
   "cell_type": "code",
   "execution_count": null,
   "metadata": {
    "collapsed": true
   },
   "outputs": [],
   "source": [
    "# the length of the posts in number of words (using an off- the-shelf tokenizer)."
   ]
  },
  {
   "cell_type": "code",
   "execution_count": null,
   "metadata": {
    "collapsed": true
   },
   "outputs": [],
   "source": [
    "def get_Post_Token_Length(question_series):\n",
    "    ans_length = 0\n",
    "    for i in answers[answers.ParentId == question_series.PostId].Body.tolist():\n",
    "        ans_length+=len(tknzr.tokenize(i))\n",
    "    que_length = len(tknzr.tokenize(question_series.Title + question_series.Body))\n",
    "    return (ans_length, que_length)"
   ]
  },
  {
   "cell_type": "code",
   "execution_count": null,
   "metadata": {},
   "outputs": [],
   "source": [
    "question_copy = questions.copy()\n",
    "question_copy['ans_token_length'] = pd.Series([None] * len(question_copy))\n",
    "question_copy['question_token_length'] = pd.Series([None] * len(question_copy))"
   ]
  },
  {
   "cell_type": "code",
   "execution_count": null,
   "metadata": {},
   "outputs": [],
   "source": [
    "for i in range(len(question_copy)):\n",
    "    cur_q = question_copy.iloc[i]\n",
    "    cur_ans_length, cur_que_length = get_Post_Token_Length(cur_q)\n",
    "    question_copy.set_value(i,'ans_token_length', cur_ans_length)\n",
    "    question_copy.set_value(i,'question_token_length', cur_que_length)\n",
    "    "
   ]
  },
  {
   "cell_type": "code",
   "execution_count": null,
   "metadata": {},
   "outputs": [],
   "source": [
    "plt.plot(sorted(list(question_copy.ans_token_length)))\n",
    "plt.title(\"Length of the post answers in number of tokens (nltk TweetTokenizer)\")\n",
    "plt.ylabel(\"Lengths of Tokens in Answers of a Question\")\n",
    "plt.xlabel(\"Questions\")\n",
    "plt.savefig(\"../Stats/ans_length_dist.png\")\n",
    "plt.show()\n",
    "plt.close()\n",
    "\n",
    "plt.plot(sorted(list(question_copy.question_token_length)))\n",
    "plt.title(\"Length of the post question in number of tokens (nltk TweetTokenizer)\")\n",
    "plt.ylabel(\"Lengths of Tokens in a Question\")\n",
    "plt.xlabel(\"Questions\")\n",
    "plt.savefig(\"../Stats/question_length_dist.png\")\n",
    "plt.show()\n",
    "plt.close()"
   ]
  },
  {
   "cell_type": "code",
   "execution_count": null,
   "metadata": {},
   "outputs": [],
   "source": [
    "question_copy['total_length'] = question_copy['question_token_length'] + question_copy['ans_token_length']\n",
    "plt.plot(sorted(list(question_copy.total_length)))\n",
    "plt.title(\"Length of the whole post including question and answers in number of tokens (nltk TweetTokenizer)\")\n",
    "plt.ylabel(\"Lengths of Tokens in a Post\")\n",
    "plt.xlabel(\"Post\")\n",
    "plt.savefig(\"../Stats/post_length_dist.png\")\n",
    "plt.show()\n",
    "plt.close()"
   ]
  },
  {
   "cell_type": "code",
   "execution_count": null,
   "metadata": {},
   "outputs": [],
   "source": [
    "write += \"For Lengths of Tokens in Answers of a Question: \\n\"\n",
    "write += \"95 percentile is %d. \\n\" % np.percentile(question_copy.ans_token_length, 95)\n",
    "write += \"Min is %d. \\n\" % np.min(question_copy.ans_token_length)\n",
    "write += \"Max is %d. \\n\" % np.max(question_copy.ans_token_length)\n",
    "write += \"\\n\""
   ]
  },
  {
   "cell_type": "code",
   "execution_count": null,
   "metadata": {
    "collapsed": true
   },
   "outputs": [],
   "source": [
    "write += \"For Lengths of Lengths of Tokens in an Answer: \\n\"\n",
    "write += \"95 percentile is %d. \\n\" % np.percentile(question_copy.question_token_length, 95)\n",
    "write += \"Min is %d. \\n\" % np.min(question_copy.question_token_length)\n",
    "write += \"Max is %d. \\n\" % np.max(question_copy.question_token_length)\n",
    "write += \"\\n\""
   ]
  },
  {
   "cell_type": "code",
   "execution_count": null,
   "metadata": {},
   "outputs": [],
   "source": [
    "write += \"For Lengths of Lengths of Tokens in a Post: \\n\"\n",
    "total = list(question_copy.total_length)\n",
    "write += \"95 percentile is %d. \\n\" % np.percentile(total, 95)\n",
    "write += \"Min is %d. \\n\" % np.min(total)\n",
    "write += \"Max is %d. \\n\" % np.max(total)"
   ]
  },
  {
   "cell_type": "code",
   "execution_count": null,
   "metadata": {
    "collapsed": true
   },
   "outputs": [],
   "source": [
    "with open(\"../Stats/stats_text.txt\", 'w') as f:\n",
    "    f.writelines(write)"
   ]
  },
  {
   "cell_type": "code",
   "execution_count": null,
   "metadata": {},
   "outputs": [],
   "source": [
    "print(write)"
   ]
  },
  {
   "cell_type": "code",
   "execution_count": null,
   "metadata": {
    "collapsed": true
   },
   "outputs": [],
   "source": []
  }
 ],
 "metadata": {
  "kernelspec": {
   "display_name": "Python 3",
   "language": "python",
   "name": "python3"
  },
  "language_info": {
   "codemirror_mode": {
    "name": "ipython",
    "version": 3
   },
   "file_extension": ".py",
   "mimetype": "text/x-python",
   "name": "python",
   "nbconvert_exporter": "python",
   "pygments_lexer": "ipython3",
   "version": "3.6.1"
  }
 },
 "nbformat": 4,
 "nbformat_minor": 2
}
