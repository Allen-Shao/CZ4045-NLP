{
 "cells": [
  {
   "cell_type": "code",
   "execution_count": null,
   "metadata": {
    "collapsed": true
   },
   "outputs": [],
   "source": [
    "# Irregular Tokens. Tokenize the dataset using your own tokenizer. Identify the top-20 most frequent\n",
    "# tokens which are NOT standard English words (including their morphological forms)."
   ]
  },
  {
   "cell_type": "code",
   "execution_count": null,
   "metadata": {},
   "outputs": [],
   "source": [
    "import enchant\n",
    "import pandas as pd\n",
    "import os.path as path\n",
    "import ast\n",
    "import operator\n",
    "import re"
   ]
  },
  {
   "cell_type": "code",
   "execution_count": null,
   "metadata": {
    "collapsed": true
   },
   "outputs": [],
   "source": [
    "def sentence_has_irregular_token(sentence, irregular_token):\n",
    "    for token in sentence:\n",
    "        if token in irregular_token:\n",
    "            return True\n",
    "    return False"
   ]
  },
  {
   "cell_type": "code",
   "execution_count": null,
   "metadata": {
    "collapsed": true
   },
   "outputs": [],
   "source": [
    "english_dictionary = enchant.Dict(\"en_US\")"
   ]
  },
  {
   "cell_type": "code",
   "execution_count": null,
   "metadata": {},
   "outputs": [],
   "source": [
    "token_frequency_dic = {} # [token_content] : frequency\n",
    "df = pd.DataFrame.from_csv('../processed_data/tokenizer_result/all/overall_results.csv')\n",
    "generated_tokens = [ast.literal_eval(t) for t in df.tokens.tolist()]\n",
    "\n",
    "for sentence in generated_tokens:\n",
    "    for token in sentence:\n",
    "        if token not in token_frequency_dic.keys():\n",
    "            token_frequency_dic[token] = 1\n",
    "        else:\n",
    "            token_frequency_dic[token] += 1"
   ]
  },
  {
   "cell_type": "code",
   "execution_count": null,
   "metadata": {},
   "outputs": [],
   "source": [
    "top_20 = {}\n",
    "floating_literal = r'''^\\d+\\.\\d*(?:[eE][+-]\\d+)?i?     \n",
    "                | \\d+[eE][+-]\\d+i?               \n",
    "                | \\.\\d+(?:[eE][+-]\\d+)?i?$     \n",
    "                '''\n",
    "decimal_literal = r'^\\d+$'\n",
    "operators = r'^[%/\\+\\-\\*\\,;\\$><!:\\.\\|&\\^=\\(\\)\\[\\]\\{\\}\\\"\\'\\#\\?_]+$'\n",
    "\n",
    "for token, frequency in sorted(token_frequency_dic.items(), key=operator.itemgetter(1), reverse=True):\n",
    "    if english_dictionary.check(token):\n",
    "        continue\n",
    "    if re.match(decimal_literal, token):\n",
    "        # the token is an number\n",
    "        continue\n",
    "    if re.match(floating_literal, token):\n",
    "        # the token is an float number\n",
    "        continue\n",
    "    if re.match(operators, token):\n",
    "        # the token is an number\n",
    "        continue\n",
    "        \n",
    "    if token in [\"'d\",\"'m\", \"'v\", \"'re\", \"'ve\", \"'s\", \"n't\"]:\n",
    "        # special english token\n",
    "        continue\n",
    "    top_20[token] = frequency\n",
    "    if (len(top_20.keys()) == 20):\n",
    "        break\n",
    "#     print(token)\n",
    "#     print(frequency)"
   ]
  },
  {
   "cell_type": "code",
   "execution_count": null,
   "metadata": {},
   "outputs": [],
   "source": [
    "write = \"token:\\tfrequency\\n\"\n",
    "for token, frequency in sorted(top_20.items(), key=operator.itemgetter(1), reverse=True):\n",
    "    write += str(token) + ':\\t' + str(frequency) + '\\n'\n",
    "    \n",
    "print(write)\n",
    "with open('../Stats/top_20_irregular.txt', 'w') as f:\n",
    "    f.write(write)"
   ]
  },
  {
   "cell_type": "code",
   "execution_count": null,
   "metadata": {
    "collapsed": true
   },
   "outputs": [],
   "source": [
    "# POS Tagging. Randomly select 10 sentences from the dataset where each sentence contains at\n",
    "# least one irregular token. Apply POS tagging on the sentences based on your own tokenization\n",
    "# results. Show and discuss the tagging results."
   ]
  },
  {
   "cell_type": "code",
   "execution_count": null,
   "metadata": {},
   "outputs": [],
   "source": [
    "import numpy as np"
   ]
  },
  {
   "cell_type": "code",
   "execution_count": null,
   "metadata": {},
   "outputs": [],
   "source": [
    "selected_10_sentences = []\n",
    "np.random.shuffle(generated_tokens)\n",
    "# for sentence in generated_tokens:\n",
    "for sentence in generated_tokens:\n",
    "    if sentence_has_irregular_token(sentence, top_20.keys()):\n",
    "        selected_10_sentences.append(sentence)\n",
    "    if (len(selected_10_sentences) == 10):\n",
    "        break"
   ]
  },
  {
   "cell_type": "code",
   "execution_count": null,
   "metadata": {
    "collapsed": true
   },
   "outputs": [],
   "source": [
    "import nltk\n",
    "pos_tagging_10_sentences = []\n",
    "for sentence in selected_10_sentences:\n",
    "    pos_tagging_10_sentences.append(nltk.pos_tag(sentence))"
   ]
  },
  {
   "cell_type": "code",
   "execution_count": null,
   "metadata": {},
   "outputs": [],
   "source": [
    "with open('../Stats/postagging_10_sentences_result.txt', 'w') as f:\n",
    "    for i in pos_tagging_10_sentences:\n",
    "        f.write(str(i) + '\\n')"
   ]
  },
  {
   "cell_type": "code",
   "execution_count": null,
   "metadata": {
    "collapsed": true
   },
   "outputs": [],
   "source": []
  }
 ],
 "metadata": {
  "kernelspec": {
   "display_name": "Python 3",
   "language": "python",
   "name": "python3"
  },
  "language_info": {
   "codemirror_mode": {
    "name": "ipython",
    "version": 3
   },
   "file_extension": ".py",
   "mimetype": "text/x-python",
   "name": "python",
   "nbconvert_exporter": "python",
   "pygments_lexer": "ipython3",
   "version": "3.6.1"
  }
 },
 "nbformat": 4,
 "nbformat_minor": 2
}
