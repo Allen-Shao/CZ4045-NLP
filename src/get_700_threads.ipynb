{
 "cells": [
  {
   "cell_type": "code",
   "execution_count": null,
   "metadata": {
    "collapsed": true
   },
   "outputs": [],
   "source": [
    "import pandas as pd\n",
    "from help_func import *\n",
    "from collections import Counter\n",
    "import matplotlib.pyplot as plt\n",
    "import numpy as np"
   ]
  },
  {
   "cell_type": "code",
   "execution_count": null,
   "metadata": {
    "collapsed": true
   },
   "outputs": [],
   "source": [
    "# read data\n",
    "answers = read_dataframe(path=\"../processed_data/answers.csv\")\n",
    "questions = read_dataframe(path=\"../processed_data/questions.csv\")\n",
    "questions = questions[questions['AnswerCount']!=0]"
   ]
  },
  {
   "cell_type": "code",
   "execution_count": null,
   "metadata": {
    "collapsed": true
   },
   "outputs": [],
   "source": [
    "qns_id_list = questions.PostId.tolist()\n",
    "np.random.shuffle(qns_id_list)\n",
    "qns_id_list = qns_id_list[:700]\n",
    "selected_answer = pd.DataFrame(columns=answers.columns)\n",
    "selected_questions = pd.DataFrame(columns=questions.columns)"
   ]
  },
  {
   "cell_type": "code",
   "execution_count": null,
   "metadata": {
    "collapsed": true
   },
   "outputs": [],
   "source": [
    "selected_answer = selected_answer.append(answers[answers['ParentId'].isin(qns_id_list)], ignore_index=True)\n",
    "selected_questions = selected_questions.append(questions[questions['PostId'].isin(qns_id_list)], ignore_index=True)"
   ]
  },
  {
   "cell_type": "code",
   "execution_count": null,
   "metadata": {
    "collapsed": true
   },
   "outputs": [],
   "source": [
    "selected_answer.to_csv('../processed_data/selected_answer.csv')\n",
    "selected_questions.to_csv('../processed_data/selected_questions.csv')"
   ]
  },
  {
   "cell_type": "code",
   "execution_count": null,
   "metadata": {
    "collapsed": true
   },
   "outputs": [],
   "source": []
  }
 ],
 "metadata": {
  "kernelspec": {
   "display_name": "Python 3",
   "language": "python",
   "name": "python3"
  },
  "language_info": {
   "codemirror_mode": {
    "name": "ipython",
    "version": 3
   },
   "file_extension": ".py",
   "mimetype": "text/x-python",
   "name": "python",
   "nbconvert_exporter": "python",
   "pygments_lexer": "ipython3",
   "version": "3.6.1"
  }
 },
 "nbformat": 4,
 "nbformat_minor": 2
}
