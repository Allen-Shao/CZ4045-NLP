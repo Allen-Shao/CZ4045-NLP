{
 "cells": [
  {
   "cell_type": "code",
   "execution_count": 1,
   "metadata": {
    "collapsed": true
   },
   "outputs": [],
   "source": [
    "import time\n",
    "import pickle\n",
    "import pandas as pd\n",
    "import os"
   ]
  },
  {
   "cell_type": "code",
   "execution_count": 2,
   "metadata": {
    "collapsed": true
   },
   "outputs": [],
   "source": [
    "base_file_name = \"./go_thread_data/go_thread_data_\"\n",
    "file_count = 0\n",
    "if (os.path.exists(\"./go_thread_data/\")) is False:\n",
    "#     if path not exists, make directory\n",
    "    os.mkdir(\"./go_thread_data/\")"
   ]
  },
  {
   "cell_type": "code",
   "execution_count": 3,
   "metadata": {
    "collapsed": true
   },
   "outputs": [],
   "source": [
    "def key_content(line, key):\n",
    "    \"\"\"\n",
    "    since we read the file line by line\n",
    "    this function is to parse the content of a key in a line\n",
    "    \"\"\"\n",
    "    start_index = line.index(key + '=\"')\n",
    "    for index in range(start_index+len(key + '=\"'),len(line)):\n",
    "        if line[index] == '\"':\n",
    "            end_index = index\n",
    "            break\n",
    "    return line[start_index + len(key + '=\"'): end_index]"
   ]
  },
  {
   "cell_type": "code",
   "execution_count": 4,
   "metadata": {
    "collapsed": true
   },
   "outputs": [],
   "source": [
    "# class Go_thread:\n",
    "#     def __init__(self, question, questionID, answer, answerID):\n",
    "#         self.question_post = question\n",
    "#         self.questionID = questionID\n",
    "#         self.answer = answer\n",
    "#         self.answerID = answerID\n",
    "        "
   ]
  },
  {
   "cell_type": "code",
   "execution_count": 5,
   "metadata": {
    "collapsed": true
   },
   "outputs": [],
   "source": [
    "# def save_go_thread_to_file(go_threads, file_name):\n",
    "#     with open(file_name, 'wb') as output:\n",
    "#         for thread in go_threads:\n",
    "#             pickle.dump(thread, output, pickle.HIGHEST_PROTOCOL)\n"
   ]
  },
  {
   "cell_type": "code",
   "execution_count": 6,
   "metadata": {
    "collapsed": true
   },
   "outputs": [],
   "source": [
    "def save_and_clear_go_thread():\n",
    "    \"\"\"\n",
    "    save the current go_threads_df to disk\n",
    "    and clear go_threads_df\n",
    "    \"\"\"\n",
    "    global file_count, total_go_threads_len, go_threads_df, without_answer\n",
    "    file_count += 1\n",
    "    total_go_threads_len += len(go_threads_df)\n",
    "    go_threads_df.to_csv(base_file_name + str(file_count) + '.csv')\n",
    "    without_answer.to_csv('./go_thread_data/without_answer_post.csv')\n",
    "    \n",
    "    go_threads_df = pd.DataFrame(None, columns=['question', 'answer', 'answerID'])\n",
    "    go_threads_df.index.rename(\"questionID\")\n",
    "\n",
    "\n",
    "\n"
   ]
  },
  {
   "cell_type": "code",
   "execution_count": null,
   "metadata": {},
   "outputs": [
    {
     "name": "stdout",
     "output_type": "stream",
     "text": [
      "Start to open the file\n",
      "saved 50 go threads to disk\n",
      "saved 50 go threads to disk\n"
     ]
    }
   ],
   "source": [
    "total_go_threads_len = 0\n",
    "go_threads_df = pd.DataFrame(None, columns=['question', 'answer', 'answerID'])\n",
    "go_threads_df.index.rename(\"questionID\")\n",
    "\n",
    "without_answer = pd.DataFrame(None, columns=['question', 'answerID'])\n",
    "start_time = time.time()\n",
    "\n",
    "with open(\"../CZ4045_NLP/project/Posts.xml\", \"r\") as f:\n",
    "    print(\"Start to open the file\")\n",
    "    # skip the first 2 lines\n",
    "    f.readline()\n",
    "    f.readline()\n",
    "    for line in f:\n",
    "        try:\n",
    "            if 'Id=\"' in line:\n",
    "                current_line_id = int(key_content(line, \"Id\"))\n",
    "            else:\n",
    "                continue\n",
    "        #     if the post if a answer\n",
    "            if key_content(line, \"PostTypeId\") == \"2\":\n",
    "                if current_line_id in without_answer.answerID.tolist():\n",
    "                    # if the post is an answer of a go question\n",
    "                    # put the answer and question into go_threads_df\n",
    "                    question_df = without_answer[without_answer.answerID == current_line_id]\n",
    "                    go_threads_df = go_threads_df.append(\n",
    "                        pd.DataFrame([[question_df.question, line, current_line_id]], \n",
    "                                     index=[question_df.index], \n",
    "                                     columns=['question', 'answer', 'answerID']))\n",
    "                    without_answer = without_answer[without_answer.answerID != current_line_id]\n",
    "        #     if the post if a question\n",
    "            elif 'Tags=\"' in line:\n",
    "                if (\"&lt;go&gt\" in key_content(line, \"Tags\")):\n",
    "        #             if the question has tag go\n",
    "        #             put the question into without_answer\n",
    "                    if 'AcceptedAnswerId=\"' in line:\n",
    "                        AcceptedAnswerId = int(key_content(line, \"AcceptedAnswerId\"))\n",
    "                        without_answer = without_answer.append(\n",
    "                            pd.DataFrame([[line, AcceptedAnswerId]], \n",
    "                                         index=[current_line_id], \n",
    "                                         columns=['question', 'answerID']))\n",
    "\n",
    "            if len(go_threads_df) > 50:\n",
    "                # save and clear to go_thread once the len(go_threads_df) > 5000\n",
    "                save_and_clear_go_thread()\n",
    "                print('saved 50 go threads to disk')\n",
    "        except:\n",
    "            print(line)\n",
    "            print(\"sth wrong, but continue\")\n",
    "            continue"
   ]
  },
  {
   "cell_type": "code",
   "execution_count": null,
   "metadata": {
    "collapsed": true
   },
   "outputs": [],
   "source": [
    "save_and_clear_go_thread()\n",
    "print(\"Program finished\")"
   ]
  },
  {
   "cell_type": "code",
   "execution_count": null,
   "metadata": {
    "collapsed": true
   },
   "outputs": [],
   "source": [
    "# if there are still questions which has not been found the corresponding answer\n",
    "# loop the file again\n",
    "# if (len(without_answer) > 0):\n",
    "#     with open(\"./Posts.xml\", \"r\") as f\n",
    "#         # skip the first 2 lines\n",
    "#         f.readline()\n",
    "#         f.readline()\n",
    "#         for line in f:\n",
    "#             current_line_id = int(key_content(line, \"Id\"))\n",
    "#             if current_line_id in without_answer.answerID.tolist():\n",
    "#                 question_df = without_answer[without_answer.answerID == current_line_id]\n",
    "#         #         print(\"find!\")\n",
    "#                 go_threads_df = go_threads_df.append(\n",
    "#                     pd.DataFrame([[question_df.question, line, current_line_id]], \n",
    "#                                  index=[question_df.index], \n",
    "#                                  columns=['question', 'answer', 'answerID']))\n",
    "#                 without_answer = without_answer[without_answer.answerID != current_line_id]\n",
    "                \n",
    "# save_and_clear_go_thread()\n",
    "# without_answer.to_csv(\"without_answer_post.csv\")"
   ]
  },
  {
   "cell_type": "code",
   "execution_count": null,
   "metadata": {
    "collapsed": true
   },
   "outputs": [],
   "source": []
  }
 ],
 "metadata": {
  "kernelspec": {
   "display_name": "Python 3",
   "language": "python",
   "name": "python3"
  },
  "language_info": {
   "codemirror_mode": {
    "name": "ipython",
    "version": 3
   },
   "file_extension": ".py",
   "mimetype": "text/x-python",
   "name": "python",
   "nbconvert_exporter": "python",
   "pygments_lexer": "ipython3",
   "version": "3.6.1"
  }
 },
 "nbformat": 4,
 "nbformat_minor": 2
}
