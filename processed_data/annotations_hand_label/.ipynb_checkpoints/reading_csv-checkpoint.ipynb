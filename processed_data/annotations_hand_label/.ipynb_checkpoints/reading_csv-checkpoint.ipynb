{
 "cells": [
  {
   "cell_type": "code",
   "execution_count": 10,
   "metadata": {},
   "outputs": [
    {
     "name": "stdout",
     "output_type": "stream",
     "text": [
      "Post: 0.csv Index: 0\n",
      "\n"
     ]
    },
    {
     "ename": "AttributeError",
     "evalue": "'_io.TextIOWrapper' object has no attribute 'loc'",
     "output_type": "error",
     "traceback": [
      "\u001b[0;31m---------------------------------------------------------------------------\u001b[0m",
      "\u001b[0;31mAttributeError\u001b[0m                            Traceback (most recent call last)",
      "\u001b[0;32m<ipython-input-10-79fa1551f711>\u001b[0m in \u001b[0;36m<module>\u001b[0;34m()\u001b[0m\n\u001b[1;32m      7\u001b[0m             \u001b[0mprint\u001b[0m\u001b[0;34m(\u001b[0m\u001b[0;34m\"Index: \"\u001b[0m \u001b[0;34m+\u001b[0m \u001b[0mstr\u001b[0m\u001b[0;34m(\u001b[0m\u001b[0mj\u001b[0m\u001b[0;34m)\u001b[0m\u001b[0;34m)\u001b[0m\u001b[0;34m\u001b[0m\u001b[0m\n\u001b[1;32m      8\u001b[0m             \u001b[0mprint\u001b[0m\u001b[0;34m(\u001b[0m\u001b[0;34m)\u001b[0m\u001b[0;34m\u001b[0m\u001b[0m\n\u001b[0;32m----> 9\u001b[0;31m             \u001b[0mprint\u001b[0m\u001b[0;34m(\u001b[0m\u001b[0mcode\u001b[0m\u001b[0;34m.\u001b[0m\u001b[0mloc\u001b[0m\u001b[0;34m[\u001b[0m\u001b[0mj\u001b[0m\u001b[0;34m]\u001b[0m\u001b[0;34m.\u001b[0m\u001b[0mtext\u001b[0m\u001b[0;34m)\u001b[0m\u001b[0;34m\u001b[0m\u001b[0m\n\u001b[0m\u001b[1;32m     10\u001b[0m             \u001b[0mprint\u001b[0m\u001b[0;34m(\u001b[0m\u001b[0;34m)\u001b[0m\u001b[0;34m\u001b[0m\u001b[0m\n\u001b[1;32m     11\u001b[0m             \u001b[0mprint\u001b[0m\u001b[0;34m(\u001b[0m\u001b[0mcode\u001b[0m\u001b[0;34m.\u001b[0m\u001b[0mloc\u001b[0m\u001b[0;34m[\u001b[0m\u001b[0mj\u001b[0m\u001b[0;34m]\u001b[0m\u001b[0;34m.\u001b[0m\u001b[0mtoken\u001b[0m\u001b[0;34m)\u001b[0m\u001b[0;34m\u001b[0m\u001b[0m\n",
      "\u001b[0;31mAttributeError\u001b[0m: '_io.TextIOWrapper' object has no attribute 'loc'"
     ]
    }
   ],
   "source": [
    "import pandas as pd\n",
    "for i in range (0, 100):\n",
    "    post = str(i)+'.csv'\n",
    "    code = pd.read_csv(post, index_col=0)\n",
    "    with open(post, encoding='utf-8') as file:\n",
    "        codereader = csv.reader(file, index_col=0)\n",
    "        for j in range(len(code)):\n",
    "            print(\"Post: \" + post, end=\" \")\n",
    "            print(\"Index: \" + str(j))\n",
    "            print()\n",
    "            print(code.loc[j].text)\n",
    "            print()\n",
    "            print(code.loc[j].token)\n",
    "            print()\n",
    "            print(code.loc[j][\"annotation\"])\n",
    "            if(i == 0 and j == 17):\n",
    "                text = nltk.word_tokenize(code.loc[j].text)\n",
    "                print(text)\n",
    "                result = pos_tag(text)\n",
    "                print(result)\n",
    "            input()\n",
    "        \n",
    "    \n",
    "        \n",
    "    \n",
    "\n"
   ]
  },
  {
   "cell_type": "code",
   "execution_count": null,
   "metadata": {
    "collapsed": true
   },
   "outputs": [],
   "source": []
  },
  {
   "cell_type": "code",
   "execution_count": 31,
   "metadata": {},
   "outputs": [
    {
     "name": "stdout",
     "output_type": "stream",
     "text": [
      "['Output', '(', 'try', 'it', 'on', 'the', 'Go', 'Playground', ')', ':', '&', '[', 'one', 'three', ']', 'You', 'still', 'have', 'to', 'assign', 'back', 'the', 'slice', 'returned', 'by', 'append', '(', ')', ',', 'but', 'not', 'to', 'a', 'map', 'key', 'but', 'to', 'the', 'pointed', 'value', '(', 'acquired', 'from', '/', 'stored', 'in', 'the', 'map', ')', '.', 'But', 'as', 'you', 'can', 'see', ',', 'handling', 'it', 'is', 'more', 'hassle', ',', 'but', 'may', 'be', 'more', 'efficient', 'if', 'you', 'add', 'new', 'elements', 'frequently', '.', 'Also', 'note', 'that', 'since', 'zero', 'value', 'for', 'any', 'pointer', 'type', 'is', 'nil', ',', 'before', 'you', 'could', 'add', 'an', 'element', 'for', 'a', 'key', ',', 'you', 'first', 'have', 'to', 'initialize', 'it', 'with', 'a', 'pointer', 'to', 'an', 'existing', ',', 'non-nil', 'slice', '(', 'but', 'if', 'you', 'create', 'your', 'own', 'type', ',', 'you', 'can', 'hide', 'this', 'check', 'and', 'initialization', ')', '.', 'With', 'map', 'as', 'value', 'type', 'Previous', 'solutions', '(', 'with', 'slices', 'in', 'keys', ')', 'are', 'good', ',', 'but', 'if', 'you', 'also', 'have', 'to', 'support', 'frequent', 'removal', 'operation', ',', 'they', 'lag', 'behind', ',', 'as', 'whenever', 'you', 'have', 'to', 'remove', 'an', 'element', ',', 'you', 'index', 'the', 'map', 'to', 'get', 'the', 'slice', ',', 'and', 'you', 'have', 'to', 'search', 'this', 'slice', 'and', 'remove', 'the', 'element', 'from', 'it', '(', 'and', 'removing', 'from', 'a', 'slice', 'includes', 'slice', 'header', 'update', 'and', 'copying', 'subsequent', 'elements', 'to', '1-less', 'indices', ')', '.', 'If', 'this', 'slice', 'is', 'not', 'sorted', ',', 'this', 'is', 'a', 'linear', 'search', 'and', 'so', 'it', 'has', 'O', '(', 'n', ')', 'complexity', '(', 'where', 'n', 'is', 'the', 'number', 'of', 'elements', 'associated', 'with', 'the', 'same', 'key', ',', 'not', 'the', 'number', 'of', 'keys', 'in', 'the', 'map', ')', '.', 'May', 'not', 'be', 'acceptable', 'depending', 'on', 'your', 'case', '.', 'To', 'support', 'fast', 'element', 'removal', ',', 'you', 'may', 'keep', 'the', 'value', 'slices', 'sorted', ',', 'and', 'so', 'finding', 'the', 'removable', 'element', 'in', 'them', 'is', 'O', '(', 'log', '(', 'n', ')', ')', 'complexity', '‰ÛÒ', 'acceptable', 'in', 'most', 'cases', '.', 'An', 'even', 'faster', 'solution', 'may', 'use', 'another', 'map', '(', 'as', 'a', 'set', ',', 'see', 'example', '#', '1', 'and', 'example', '#', '2', ')', 'as', 'the', 'value', 'type', ',', 'which', 'will', 'be', 'O', '(', '1', ')', 'complexity', 'for', 'removals', 'too', '.', 'Cool', '.', 'It', 'could', 'look', 'like', 'this', ':']\n",
      "\n",
      "\n",
      "('NNP', '(', 'VB', 'PRP', 'IN', 'DT', 'NNP', 'NNP', ')', ':', 'CC', 'VB', 'CD', 'CD', 'NN', 'PRP', 'RB', 'VBP', 'TO', 'VB', 'RP', 'DT', 'NN', 'VBN', 'IN', 'NN', '(', ')', ',', 'CC', 'RB', 'TO', 'DT', 'NN', 'NN', 'CC', 'TO', 'DT', 'VBN', 'NN', '(', 'VBN', 'IN', 'NN', 'VBN', 'IN', 'DT', 'NN', ')', '.', 'CC', 'IN', 'PRP', 'MD', 'VB', ',', 'VBG', 'PRP', 'VBZ', 'RBR', 'JJ', ',', 'CC', 'MD', 'VB', 'RBR', 'JJ', 'IN', 'PRP', 'VBP', 'JJ', 'NNS', 'RB', '.', 'RB', 'VBP', 'IN', 'IN', 'CD', 'NN', 'IN', 'DT', 'NN', 'NN', 'VBZ', 'JJ', ',', 'IN', 'PRP', 'MD', 'VB', 'DT', 'NN', 'IN', 'DT', 'NN', ',', 'PRP', 'RB', 'VBP', 'TO', 'VB', 'PRP', 'IN', 'DT', 'NN', 'TO', 'DT', 'VBG', ',', 'JJ', 'NN', '(', 'CC', 'IN', 'PRP', 'VBP', 'PRP$', 'JJ', 'NN', ',', 'PRP', 'MD', 'VB', 'DT', 'NN', 'CC', 'NN', ')', '.', 'IN', 'NN', 'IN', 'NN', 'VBP', 'JJ', 'NNS', '(', 'IN', 'NNS', 'IN', 'NNS', ')', 'VBP', 'JJ', ',', 'CC', 'IN', 'PRP', 'RB', 'VBP', 'TO', 'VB', 'JJ', 'NN', 'NN', ',', 'PRP', 'VBP', 'RB', ',', 'IN', 'NN', 'PRP', 'VBP', 'TO', 'VB', 'DT', 'NN', ',', 'PRP', 'NN', 'DT', 'NN', 'TO', 'VB', 'DT', 'NN', ',', 'CC', 'PRP', 'VBP', 'TO', 'VB', 'DT', 'NN', 'CC', 'VB', 'DT', 'NN', 'IN', 'PRP', '(', 'CC', 'VBG', 'IN', 'DT', 'NN', 'VBZ', 'JJ', 'NN', 'NN', 'CC', 'VBG', 'JJ', 'NNS', 'TO', 'JJ', 'NNS', ')', '.', 'IN', 'DT', 'NN', 'VBZ', 'RB', 'VBN', ',', 'DT', 'VBZ', 'DT', 'JJ', 'NN', 'CC', 'RB', 'PRP', 'VBZ', 'NNP', '(', 'NN', ')', 'NN', '(', 'WRB', 'NN', 'VBZ', 'DT', 'NN', 'IN', 'NNS', 'VBN', 'IN', 'DT', 'JJ', 'NN', ',', 'RB', 'DT', 'NN', 'IN', 'NNS', 'IN', 'DT', 'NN', ')', '.', 'NNP', 'RB', 'VB', 'JJ', 'VBG', 'IN', 'PRP$', 'NN', '.', 'TO', 'VB', 'RB', 'JJ', 'NN', ',', 'PRP', 'MD', 'VB', 'DT', 'NN', 'NNS', 'VBD', ',', 'CC', 'RB', 'VBG', 'DT', 'JJ', 'NN', 'IN', 'PRP', 'VBZ', 'NNP', '(', 'NN', '(', 'JJ', ')', ')', 'NN', 'NNP', 'JJ', 'IN', 'JJS', 'NNS', '.', 'DT', 'RB', 'JJR', 'NN', 'MD', 'VB', 'DT', 'NN', '(', 'IN', 'DT', 'NN', ',', 'VBP', 'NN', '#', 'CD', 'CC', 'NN', '#', 'CD', ')', 'IN', 'DT', 'NN', 'NN', ',', 'WDT', 'MD', 'VB', 'NNP', '(', 'CD', ')', 'NN', 'IN', 'NNS', 'RB', '.', 'NNP', '.', 'PRP', 'MD', 'VB', 'IN', 'DT', ':')\n"
     ]
    }
   ],
   "source": [
    "import nltk\n",
    "txt = nltk.word_tokenize(\"Output (try it on the Go Playground): &[one three] You still have to assign back the slice returned by append(), but not to a map key but to the pointed value (acquired from / stored in the map). But as you can see, handling it is more hassle, but may be more efficient if you add new elements frequently. Also note that since zero value for any pointer type is nil, before you could add an element for a key, you first have to initialize it with a pointer to an existing, non-nil slice (but if you create your own type, you can hide this check and initialization). With map as value type Previous solutions (with slices in keys) are good, but if you also have to support frequent removal operation, they lag behind, as whenever you have to remove an element, you index the map to get the slice, and you have to search this slice and remove the element from it (and removing from a slice includes slice header update and copying subsequent elements to 1-less indices). If this slice is not sorted, this is a linear search and so it has O(n) complexity (where n is the number of elements associated with the same key, not the number of keys in the map). May not be acceptable depending on your case. To support fast element removal, you may keep the value slices sorted, and so finding the removable element in them is O(log(n)) complexity ‰ÛÒ acceptable in most cases. An even faster solution may use another map (as a set, see example #1 and example #2) as the value type, which will be O(1) complexity for removals too. Cool. It could look like this: \")\n",
    "result = nltk.pos_tag(txt)\n",
    "print(txt)\n",
    "print(\"\\n\")\n",
    "words, tags = zip(*result)\n",
    "print(tags)"
   ]
  },
  {
   "cell_type": "code",
   "execution_count": 29,
   "metadata": {},
   "outputs": [
    {
     "ename": "SyntaxError",
     "evalue": "invalid syntax (<ipython-input-29-58561489802c>, line 1)",
     "output_type": "error",
     "traceback": [
      "\u001b[0;36m  File \u001b[0;32m\"<ipython-input-29-58561489802c>\"\u001b[0;36m, line \u001b[0;32m1\u001b[0m\n\u001b[0;31m    a = str(\"['Just', 'as', 'with', 'the', 'pointer-to-slice', 'value', 'type', ',', 'you', 'first', 'have', 'to', 'initialize', 'a', 'value', 'for', 'a', 'key', 'with', 'a', 'non-nil', 'map', 'before', 'you', 'can', 'actually', '\"', 'add', '\"', 'values', 'to', 'it', '.', 'Hide', 'this', 'by', 'creating', 'your', 'own', 'type', 'and', 'adding', 'methods', '.'] \")\u001b[0m\n\u001b[0m                                                                                                                                                                                                                                             ^\u001b[0m\n\u001b[0;31mSyntaxError\u001b[0m\u001b[0;31m:\u001b[0m invalid syntax\n"
     ]
    }
   ],
   "source": [
    "a = str(\"['Just', 'as', 'with', 'the', 'pointer-to-slice', 'value', 'type', ',', 'you', 'first', 'have', 'to', 'initialize', 'a', 'value', 'for', 'a', 'key', 'with', 'a', 'non-nil', 'map', 'before', 'you', 'can', 'actually', '\"', 'add', '\"', 'values', 'to', 'it', '.', 'Hide', 'this', 'by', 'creating', 'your', 'own', 'type', 'and', 'adding', 'methods', '.'] \")\n",
    "a.encode('utf-8').strip()\n",
    "a"
   ]
  },
  {
   "cell_type": "code",
   "execution_count": null,
   "metadata": {
    "collapsed": true
   },
   "outputs": [],
   "source": []
  }
 ],
 "metadata": {
  "kernelspec": {
   "display_name": "Python 3",
   "language": "python",
   "name": "python3"
  },
  "language_info": {
   "codemirror_mode": {
    "name": "ipython",
    "version": 3
   },
   "file_extension": ".py",
   "mimetype": "text/x-python",
   "name": "python",
   "nbconvert_exporter": "python",
   "pygments_lexer": "ipython3",
   "version": "3.6.2"
  }
 },
 "nbformat": 4,
 "nbformat_minor": 2
}
